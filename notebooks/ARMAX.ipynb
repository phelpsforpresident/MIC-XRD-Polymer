{
 "metadata": {
  "name": "",
  "signature": "sha256:8782b6c3a25e59a75c9adcf9fb3dddd45a0439ce1e47e3e63e288e6fa08e6f0a"
 },
 "nbformat": 3,
 "nbformat_minor": 0,
 "worksheets": [
  {
   "cells": [
    {
     "cell_type": "code",
     "collapsed": false,
     "input": [
      "%matplotlib inline\n",
      "\n",
      "import json as json\n",
      "import numpy as np\n",
      "import matplotlib.pylab as plt\n",
      "from statsmodels.tsa.api import ARMA, ARIMA\n",
      "import statsmodels.api as sm"
     ],
     "language": "python",
     "metadata": {},
     "outputs": [],
     "prompt_number": 166
    },
    {
     "cell_type": "markdown",
     "metadata": {},
     "source": [
      "#Load Data"
     ]
    },
    {
     "cell_type": "code",
     "collapsed": false,
     "input": [
      "file_path = '/home/david/git/MIC-XRD-Polymer/visualization/Vis_data.json'"
     ],
     "language": "python",
     "metadata": {},
     "outputs": [],
     "prompt_number": 2
    },
    {
     "cell_type": "code",
     "collapsed": false,
     "input": [
      "with open(file_path) as json_file:\n",
      "    data_dicts = json.load(json_file)"
     ],
     "language": "python",
     "metadata": {},
     "outputs": [],
     "prompt_number": 3
    },
    {
     "cell_type": "code",
     "collapsed": false,
     "input": [
      "keys = data_dicts[0].keys()\n",
      "pt_key = keys[5]\n",
      "strain_key = keys[4]\n",
      "sample_key = keys[3]\n",
      "stress_key = keys[2]"
     ],
     "language": "python",
     "metadata": {},
     "outputs": [],
     "prompt_number": 4
    },
    {
     "cell_type": "code",
     "collapsed": false,
     "input": [
      "samples = []\n",
      "strains = []\n",
      "pc_points = []\n",
      "stresses = []\n",
      "for pt_dict in data_dicts:\n",
      "    samples.append(pt_dict[sample_key])\n",
      "    strains.append(pt_dict[strain_key])\n",
      "    stresses.append(pt_dict[stress_key])\n",
      "samples_numbers = sorted(set(samples))"
     ],
     "language": "python",
     "metadata": {},
     "outputs": [],
     "prompt_number": 5
    },
    {
     "cell_type": "code",
     "collapsed": false,
     "input": [
      "sample_dict = {}\n",
      "for sample in samples_numbers:    \n",
      "    sub_data_dict = {}\n",
      "    sub_strains = []\n",
      "    sub_stress = []\n",
      "    for strain, stress, samp, pts in zip(strains, stresses, samples, data_dicts):\n",
      "        if samp == sample:\n",
      "            if len(sub_data_dict) == 0:\n",
      "                sub_data_dict['points'] = np.array(pts[pt_key])[..., None]\n",
      "            else:\n",
      "                sub_data_dict['points'] = np.concatenate((sub_data_dict['points'], np.array(pts[pt_key])[..., None]), axis=-1)\n",
      "            sub_strains.append(strain)\n",
      "            sub_stress.append(stress)\n",
      "    sub_data_dict['strains'] = np.array(sub_strains)\n",
      "    sub_data_dict['stresses'] = np.array(sub_stress)\n",
      "    sample_dict[sample] = sub_data_dict"
     ],
     "language": "python",
     "metadata": {},
     "outputs": [],
     "prompt_number": 6
    },
    {
     "cell_type": "code",
     "collapsed": false,
     "input": [
      "sample0 = sample_dict[samples_numbers[0]]\n",
      "sample1 = sample_dict[samples_numbers[1]]\n",
      "sample2 = sample_dict[samples_numbers[2]]"
     ],
     "language": "python",
     "metadata": {},
     "outputs": [],
     "prompt_number": 7
    },
    {
     "cell_type": "code",
     "collapsed": false,
     "input": [
      "stresses0 = sample0['stresses']\n",
      "strains0 = sample0['strains']\n",
      "points0 = sample0['points'][0]\n",
      "stresses1 = sample1['stresses']\n",
      "strains1 = sample1['strains']\n",
      "points1 = sample1['points'][0]\n",
      "stresses2 = sample2['stresses']\n",
      "strains2 = sample2['strains']\n",
      "points2 = sample2['points'][0]"
     ],
     "language": "python",
     "metadata": {},
     "outputs": [],
     "prompt_number": 8
    },
    {
     "cell_type": "markdown",
     "metadata": {},
     "source": [
      "#Time Series"
     ]
    },
    {
     "cell_type": "code",
     "collapsed": false,
     "input": [
      "p = 4\n",
      "exo0 = np.concatenate((np.zeros(p), strains0))\n",
      "exo = np.concatenate((stresses0[:, None], strains0[:, None]))\n",
      "model = ARIMA(endog=points0 - points0[0], order=(p, 0, 0), exog=exo0[p:])"
     ],
     "language": "python",
     "metadata": {},
     "outputs": [],
     "prompt_number": 158
    },
    {
     "cell_type": "code",
     "collapsed": false,
     "input": [
      "results = model.fit()"
     ],
     "language": "python",
     "metadata": {},
     "outputs": [],
     "prompt_number": 159
    },
    {
     "cell_type": "code",
     "collapsed": false,
     "input": [
      "print(results.summary())"
     ],
     "language": "python",
     "metadata": {},
     "outputs": [
      {
       "output_type": "stream",
       "stream": "stdout",
       "text": [
        "                              ARMA Model Results                              \n",
        "==============================================================================\n",
        "Dep. Variable:                      y   No. Observations:                  184\n",
        "Model:                     ARMA(4, 0)   Log Likelihood                  48.941\n",
        "Method:                       css-mle   S.D. of innovations              0.181\n",
        "Date:                Thu, 12 Mar 2015   AIC                            -83.881\n",
        "Time:                        11:23:09   BIC                            -61.377\n",
        "Sample:                             0   HQIC                           -74.760\n",
        "                                                                              \n",
        "==============================================================================\n",
        "                 coef    std err          z      P>|z|      [95.0% Conf. Int.]\n",
        "------------------------------------------------------------------------------\n",
        "const         -9.9415      5.122     -1.941      0.054       -19.980     0.097\n",
        "x1            17.8994      3.317      5.396      0.000        11.397    24.401\n",
        "ar.L1.y        1.0544      0.069     15.366      0.000         0.920     1.189\n",
        "ar.L2.y        0.4320      0.105      4.101      0.000         0.226     0.638\n",
        "ar.L3.y       -0.1146      0.105     -1.090      0.277        -0.321     0.091\n",
        "ar.L4.y       -0.3773      0.070     -5.420      0.000        -0.514    -0.241\n",
        "                                    Roots                                    \n",
        "=============================================================================\n",
        "                 Real           Imaginary           Modulus         Frequency\n",
        "-----------------------------------------------------------------------------\n",
        "AR.1            1.0156           -0.0476j            1.0167           -0.0075\n",
        "AR.2            1.0156           +0.0476j            1.0167            0.0075\n",
        "AR.3           -1.1674           -1.0959j            1.6012           -0.3800\n",
        "AR.4           -1.1674           +1.0959j            1.6012            0.3800\n",
        "-----------------------------------------------------------------------------\n"
       ]
      }
     ],
     "prompt_number": 160
    },
    {
     "cell_type": "code",
     "collapsed": false,
     "input": [
      "strains_exo = np.concatenate((np.zeros(p), strains2))\n",
      "stresses_exo = np.concatenate((np.zeros(p), stresses1))\n",
      "print stresses1.shape"
     ],
     "language": "python",
     "metadata": {},
     "outputs": [
      {
       "output_type": "stream",
       "stream": "stdout",
       "text": [
        "(241,)\n"
       ]
      }
     ],
     "prompt_number": 161
    },
    {
     "cell_type": "code",
     "collapsed": false,
     "input": [],
     "language": "python",
     "metadata": {},
     "outputs": [],
     "prompt_number": 161
    },
    {
     "cell_type": "code",
     "collapsed": false,
     "input": [
      "print points2.shape\n",
      "print points2[0]\n",
      "y_points2 = model.predict(params=results.params, exog=strains_exo, dynamic=True) + points2[0]"
     ],
     "language": "python",
     "metadata": {},
     "outputs": [
      {
       "output_type": "stream",
       "stream": "stdout",
       "text": [
        "(245,)\n",
        "-17.0737094879\n"
       ]
      },
      {
       "ename": "ValueError",
       "evalue": "shapes (249,) and (1,) not aligned: 249 (dim 0) != 1 (dim 0)",
       "output_type": "pyerr",
       "traceback": [
        "\u001b[1;31m---------------------------------------------------------------------------\u001b[0m\n\u001b[1;31mValueError\u001b[0m                                Traceback (most recent call last)",
        "\u001b[1;32m<ipython-input-169-67bfaaa71dbe>\u001b[0m in \u001b[0;36m<module>\u001b[1;34m()\u001b[0m\n\u001b[0;32m      1\u001b[0m \u001b[1;32mprint\u001b[0m \u001b[0mpoints2\u001b[0m\u001b[1;33m.\u001b[0m\u001b[0mshape\u001b[0m\u001b[1;33m\u001b[0m\u001b[0m\n\u001b[0;32m      2\u001b[0m \u001b[1;32mprint\u001b[0m \u001b[0mpoints2\u001b[0m\u001b[1;33m[\u001b[0m\u001b[1;36m0\u001b[0m\u001b[1;33m]\u001b[0m\u001b[1;33m\u001b[0m\u001b[0m\n\u001b[1;32m----> 3\u001b[1;33m \u001b[0my_points2\u001b[0m \u001b[1;33m=\u001b[0m \u001b[0mmodel\u001b[0m\u001b[1;33m.\u001b[0m\u001b[0mpredict\u001b[0m\u001b[1;33m(\u001b[0m\u001b[0mparams\u001b[0m\u001b[1;33m=\u001b[0m\u001b[0mresults\u001b[0m\u001b[1;33m.\u001b[0m\u001b[0mparams\u001b[0m\u001b[1;33m,\u001b[0m \u001b[0mexog\u001b[0m\u001b[1;33m=\u001b[0m\u001b[0mstrains_exo\u001b[0m\u001b[1;33m,\u001b[0m \u001b[0mdynamic\u001b[0m\u001b[1;33m=\u001b[0m\u001b[0mTrue\u001b[0m\u001b[1;33m)\u001b[0m \u001b[1;33m+\u001b[0m \u001b[0mpoints2\u001b[0m\u001b[1;33m[\u001b[0m\u001b[1;36m0\u001b[0m\u001b[1;33m]\u001b[0m\u001b[1;33m\u001b[0m\u001b[0m\n\u001b[0m",
        "\u001b[1;32m/home/david/anaconda/lib/python2.7/site-packages/statsmodels/tsa/arima_model.pyc\u001b[0m in \u001b[0;36mpredict\u001b[1;34m(self, params, start, end, exog, dynamic)\u001b[0m\n\u001b[0;32m    637\u001b[0m             return _arma_predict_out_of_sample(params, out_of_sample, resid,\n\u001b[0;32m    638\u001b[0m                     \u001b[0mk_ar\u001b[0m\u001b[1;33m,\u001b[0m \u001b[0mself\u001b[0m\u001b[1;33m.\u001b[0m\u001b[0mk_ma\u001b[0m\u001b[1;33m,\u001b[0m \u001b[0mself\u001b[0m\u001b[1;33m.\u001b[0m\u001b[0mk_trend\u001b[0m\u001b[1;33m,\u001b[0m \u001b[0mself\u001b[0m\u001b[1;33m.\u001b[0m\u001b[0mk_exog\u001b[0m\u001b[1;33m,\u001b[0m \u001b[0mendog\u001b[0m\u001b[1;33m,\u001b[0m \u001b[0mexog\u001b[0m\u001b[1;33m,\u001b[0m\u001b[1;33m\u001b[0m\u001b[0m\n\u001b[1;32m--> 639\u001b[1;33m                     start, method)\n\u001b[0m\u001b[0;32m    640\u001b[0m \u001b[1;33m\u001b[0m\u001b[0m\n\u001b[0;32m    641\u001b[0m         predictedvalues = _arma_predict_in_sample(start, end, endog, resid,\n",
        "\u001b[1;32m/home/david/anaconda/lib/python2.7/site-packages/statsmodels/tsa/arima_model.pyc\u001b[0m in \u001b[0;36m_arma_predict_out_of_sample\u001b[1;34m(params, steps, errors, p, q, k_trend, k_exog, endog, exog, start, method)\u001b[0m\n\u001b[0;32m    233\u001b[0m                                                    \u001b[0mexparams\u001b[0m\u001b[1;33m,\u001b[0m \u001b[0marparams\u001b[0m\u001b[1;33m,\u001b[0m\u001b[1;33m\u001b[0m\u001b[0m\n\u001b[0;32m    234\u001b[0m                                                    \u001b[0mmaparams\u001b[0m\u001b[1;33m,\u001b[0m \u001b[0msteps\u001b[0m\u001b[1;33m,\u001b[0m \u001b[0mmethod\u001b[0m\u001b[1;33m,\u001b[0m\u001b[1;33m\u001b[0m\u001b[0m\n\u001b[1;32m--> 235\u001b[1;33m                                                    exog)\n\u001b[0m\u001b[0;32m    236\u001b[0m \u001b[1;33m\u001b[0m\u001b[0m\n\u001b[0;32m    237\u001b[0m     \u001b[0mforecast\u001b[0m \u001b[1;33m=\u001b[0m \u001b[0mnp\u001b[0m\u001b[1;33m.\u001b[0m\u001b[0mzeros\u001b[0m\u001b[1;33m(\u001b[0m\u001b[0msteps\u001b[0m\u001b[1;33m)\u001b[0m\u001b[1;33m\u001b[0m\u001b[0m\n",
        "\u001b[1;32m/home/david/anaconda/lib/python2.7/site-packages/statsmodels/tsa/arima_model.pyc\u001b[0m in \u001b[0;36m_get_predict_out_of_sample\u001b[1;34m(endog, p, q, k_trend, k_exog, start, errors, trendparam, exparams, arparams, maparams, steps, method, exog)\u001b[0m\n\u001b[0;32m    204\u001b[0m             \u001b[1;31m#TODO: technically should only hold for MLE not\u001b[0m\u001b[1;33m\u001b[0m\u001b[1;33m\u001b[0m\u001b[0m\n\u001b[0;32m    205\u001b[0m             \u001b[1;31m# conditional model. See #274.\u001b[0m\u001b[1;33m\u001b[0m\u001b[1;33m\u001b[0m\u001b[0m\n\u001b[1;32m--> 206\u001b[1;33m             \u001b[0mX\u001b[0m \u001b[1;33m=\u001b[0m \u001b[0mlagmat\u001b[0m\u001b[1;33m(\u001b[0m\u001b[0mnp\u001b[0m\u001b[1;33m.\u001b[0m\u001b[0mdot\u001b[0m\u001b[1;33m(\u001b[0m\u001b[0mexog\u001b[0m\u001b[1;33m,\u001b[0m \u001b[0mexparams\u001b[0m\u001b[1;33m)\u001b[0m\u001b[1;33m,\u001b[0m \u001b[0mp\u001b[0m\u001b[1;33m,\u001b[0m \u001b[0moriginal\u001b[0m\u001b[1;33m=\u001b[0m\u001b[1;34m'in'\u001b[0m\u001b[1;33m,\u001b[0m \u001b[0mtrim\u001b[0m\u001b[1;33m=\u001b[0m\u001b[1;34m'both'\u001b[0m\u001b[1;33m)\u001b[0m\u001b[1;33m\u001b[0m\u001b[0m\n\u001b[0m\u001b[0;32m    207\u001b[0m             \u001b[0mmu\u001b[0m \u001b[1;33m=\u001b[0m \u001b[0mtrendparam\u001b[0m \u001b[1;33m*\u001b[0m \u001b[1;33m(\u001b[0m\u001b[1;36m1\u001b[0m \u001b[1;33m-\u001b[0m \u001b[0marparams\u001b[0m\u001b[1;33m.\u001b[0m\u001b[0msum\u001b[0m\u001b[1;33m(\u001b[0m\u001b[1;33m)\u001b[0m\u001b[1;33m)\u001b[0m\u001b[1;33m\u001b[0m\u001b[0m\n\u001b[0;32m    208\u001b[0m             \u001b[1;31m# arparams were reversed in unpack for ease later\u001b[0m\u001b[1;33m\u001b[0m\u001b[1;33m\u001b[0m\u001b[0m\n",
        "\u001b[1;31mValueError\u001b[0m: shapes (249,) and (1,) not aligned: 249 (dim 0) != 1 (dim 0)"
       ]
      }
     ],
     "prompt_number": 169
    },
    {
     "cell_type": "code",
     "collapsed": false,
     "input": [
      "plt.figure()\n",
      "plt.plot(y_points2, label='Predicted')\n",
      "plt.plot(points2, label='Actual')\n",
      "plt.legend(loc=2)"
     ],
     "language": "python",
     "metadata": {},
     "outputs": [
      {
       "metadata": {},
       "output_type": "pyout",
       "prompt_number": 163,
       "text": [
        "<matplotlib.legend.Legend at 0x7f73d6d21fd0>"
       ]
      },
      {
       "metadata": {},
       "output_type": "display_data",
       "png": "[encoded data removed]",
       "text": [
        "<matplotlib.figure.Figure at 0x7f73d6e17f90>"
       ]
      }
     ],
     "prompt_number": 163
    },
    {
     "cell_type": "code",
     "collapsed": false,
     "input": [
      "\n",
      "y_points0 = model.predict(params=results.params, exog=exo0) + points0[0]\n",
      "plt.figure()\n",
      "plt.plot(y_points0, label='Predicted')\n",
      "plt.plot(points0, label='Actual')\n",
      "plt.legend(loc=2)"
     ],
     "language": "python",
     "metadata": {},
     "outputs": [
      {
       "metadata": {},
       "output_type": "pyout",
       "prompt_number": 164,
       "text": [
        "<matplotlib.legend.Legend at 0x7f73d6bf5b50>"
       ]
      },
      {
       "metadata": {},
       "output_type": "display_data",
       "png": "[encoded data removed]",
       "text": [
        "<matplotlib.figure.Figure at 0x7f73d6d59990>"
       ]
      }
     ],
     "prompt_number": 164
    },
    {
     "cell_type": "code",
     "collapsed": false,
     "input": [
      "l = 0\n",
      "plt.plot(points0[:] - y_points0[l:])"
     ],
     "language": "python",
     "metadata": {},
     "outputs": [
      {
       "metadata": {},
       "output_type": "pyout",
       "prompt_number": 165,
       "text": [
        "[<matplotlib.lines.Line2D at 0x7f73d6ba9690>]"
       ]
      },
      {
       "metadata": {},
       "output_type": "display_data",
       "png": "[encoded data removed]",
       "text": [
        "<matplotlib.figure.Figure at 0x7f73d6d80f90>"
       ]
      }
     ],
     "prompt_number": 165
    },
    {
     "cell_type": "code",
     "collapsed": false,
     "input": [],
     "language": "python",
     "metadata": {},
     "outputs": [],
     "prompt_number": 148
    },
    {
     "cell_type": "code",
     "collapsed": false,
     "input": [],
     "language": "python",
     "metadata": {},
     "outputs": []
    }
   ],
   "metadata": {}
  }
 ]
}