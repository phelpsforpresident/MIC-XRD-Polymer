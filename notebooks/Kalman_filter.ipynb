{
 "metadata": {
  "name": "",
  "signature": "sha256:48b6613dd151eddaf3869ca1082fc31131b99c3a158e3eaab59e71994f0d44e1"
 },
 "nbformat": 3,
 "nbformat_minor": 0,
 "worksheets": [
  {
   "cells": [
    {
     "cell_type": "code",
     "collapsed": false,
     "input": [
      "%matplotlib inline\n",
      "\n",
      "import json as json\n",
      "import numpy as np\n",
      "import matplotlib.pylab as plt\n",
      "from sklearn.kalman import KalmanFilter"
     ],
     "language": "python",
     "metadata": {},
     "outputs": [],
     "prompt_number": 1
    },
    {
     "cell_type": "code",
     "collapsed": false,
     "input": [
      "file_path = '/home/david/git/MIC-XRD-Polymer/visualization/Vis_data.json'"
     ],
     "language": "python",
     "metadata": {},
     "outputs": [],
     "prompt_number": 3
    },
    {
     "cell_type": "code",
     "collapsed": false,
     "input": [
      "with open(file_path) as json_file:\n",
      "    data_dicts = json.load(json_file)"
     ],
     "language": "python",
     "metadata": {},
     "outputs": [],
     "prompt_number": 4
    },
    {
     "cell_type": "code",
     "collapsed": false,
     "input": [
      "keys = data_dicts[0].keys()\n",
      "pt_key = keys[5]\n",
      "strain_key = keys[4]\n",
      "sample_key = keys[3]\n",
      "stress_key = keys[2]"
     ],
     "language": "python",
     "metadata": {},
     "outputs": [],
     "prompt_number": 5
    },
    {
     "cell_type": "code",
     "collapsed": false,
     "input": [
      "samples = []\n",
      "strains = []\n",
      "pc_points = []\n",
      "stresses = []\n",
      "for pt_dict in data_dicts:\n",
      "    samples.append(pt_dict[sample_key])\n",
      "    strains.append(pt_dict[strain_key])\n",
      "    stresses.append(pt_dict[stress_key])\n",
      "samples_numbers = sorted(set(samples))"
     ],
     "language": "python",
     "metadata": {},
     "outputs": [],
     "prompt_number": 6
    },
    {
     "cell_type": "code",
     "collapsed": false,
     "input": [
      "sample_dict = {}\n",
      "for sample in samples_numbers:    \n",
      "    sub_data_dict = {}\n",
      "    sub_strains = []\n",
      "    sub_stress = []\n",
      "    for strain, stress, samp, pts in zip(strains, stresses, samples, data_dicts):\n",
      "        if samp == sample:\n",
      "            if len(sub_data_dict) == 0:\n",
      "                sub_data_dict['points'] = np.array(pts[pt_key])[..., None]\n",
      "            else:\n",
      "                sub_data_dict['points'] = np.concatenate((sub_data_dict['points'], np.array(pts[pt_key])[..., None]), axis=-1)\n",
      "            sub_strains.append(strain)\n",
      "            sub_stress.append(stress)\n",
      "    sub_data_dict['strains'] = np.array(sub_strains)\n",
      "    sub_data_dict['stresses'] = np.array(sub_stress)\n",
      "    sample_dict[sample] = sub_data_dict"
     ],
     "language": "python",
     "metadata": {},
     "outputs": [],
     "prompt_number": 7
    },
    {
     "cell_type": "code",
     "collapsed": false,
     "input": [
      "sample1 = sample_dict[samples_numbers[0]]"
     ],
     "language": "python",
     "metadata": {},
     "outputs": [],
     "prompt_number": 8
    },
    {
     "cell_type": "code",
     "collapsed": false,
     "input": [
      "print sample1['points'].shape\n",
      "print np.tile(sample1['strains'], (sample1['points'].shape[0], 1)).shape\n",
      "transition_matrices = np.array([[1, 1], [0, 1]])\n",
      "transition_covariance = 100 * np.eye(2)\n",
      "kf_filter = KalmanFilter(transition_matrices=transition_matrices, transition_covariance=transition_covariance)\n",
      "# kf_filter = KalmanFilter()"
     ],
     "language": "python",
     "metadata": {},
     "outputs": [
      {
       "output_type": "stream",
       "stream": "stdout",
       "text": [
        "(7, 184)\n",
        "(7, 184)\n"
       ]
      }
     ],
     "prompt_number": 51
    },
    {
     "cell_type": "code",
     "collapsed": false,
     "input": [
      "kf_filter.fit(X=sample1['points'][0])"
     ],
     "language": "python",
     "metadata": {},
     "outputs": [
      {
       "metadata": {},
       "output_type": "pyout",
       "prompt_number": 52,
       "text": [
        "KalmanFilter(em_vars=['transition_covariance', 'observation_covariance', 'initial_state_mean', 'initial_state_covariance'],\n",
        "       initial_state_covariance=array([[ 0.04263, -0.02511],\n",
        "       [-0.02511,  0.23042]]),\n",
        "       initial_state_mean=array([-6.39135, -0.30792]), n_dim_obs=None,\n",
        "       n_dim_state=None, observation_covariance=array([[ 0.13186]]),\n",
        "       observation_matrices=array([[ 1.,  0.]]),\n",
        "       observation_offsets=array([ 0.]), random_state=None,\n",
        "       transition_covariance=array([[ 0.49046,  0.3053 ],\n",
        "       [ 0.3053 ,  0.61539]]),\n",
        "       transition_matrices=array([[1, 1],\n",
        "       [0, 1]]),\n",
        "       transition_offsets=array([ 0.,  0.]))"
       ]
      }
     ],
     "prompt_number": 52
    },
    {
     "cell_type": "code",
     "collapsed": false,
     "input": [
      "test = kf_filter.predict(sample1['strains'])\n",
      "print sample1['points'][0].shape\n",
      "print test.shape"
     ],
     "language": "python",
     "metadata": {},
     "outputs": [
      {
       "output_type": "stream",
       "stream": "stdout",
       "text": [
        "(184,)\n",
        "(184, 2)\n"
       ]
      }
     ],
     "prompt_number": 53
    },
    {
     "cell_type": "code",
     "collapsed": false,
     "input": [
      "fig = plt.figure()\n",
      "plt.plot(sample1['points'][0], 'k.')\n",
      "fig = plt.figure()\n",
      "plt.plot(test[:, 0], 'k.')"
     ],
     "language": "python",
     "metadata": {},
     "outputs": [
      {
       "metadata": {},
       "output_type": "pyout",
       "prompt_number": 54,
       "text": [
        "[<matplotlib.lines.Line2D at 0x7fee9d7af050>]"
       ]
      },
      {
       "metadata": {},
       "output_type": "display_data",
       "png": "[encoded data removed]",
       "text": [
        "<matplotlib.figure.Figure at 0x7fee9da41350>"
       ]
      },
      {
       "metadata": {},
       "output_type": "display_data",
       "png": "[encoded data removed]",
       "text": [
        "<matplotlib.figure.Figure at 0x7fee9e19c8d0>"
       ]
      }
     ],
     "prompt_number": 54
    },
    {
     "cell_type": "code",
     "collapsed": false,
     "input": [],
     "language": "python",
     "metadata": {},
     "outputs": [],
     "prompt_number": 11
    }
   ],
   "metadata": {}
  }
 ]
}