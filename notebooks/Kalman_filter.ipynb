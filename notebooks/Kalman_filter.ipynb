{
 "metadata": {
  "name": "",
  "signature": "sha256:256703a16f9ed1c8e41ef6bf17b749dc4bb38a132c7f95ae57baa269b57e0ce6"
 },
 "nbformat": 3,
 "nbformat_minor": 0,
 "worksheets": [
  {
   "cells": [
    {
     "cell_type": "code",
     "collapsed": false,
     "input": [
      "%matplotlib inline\n",
      "\n",
      "import json as json\n",
      "import numpy as np\n",
      "import matplotlib.pylab as plt\n",
      "from filterpy.kalman import KalmanFilter\n",
      "from filterpy.common import Q_discrete_white_noise"
     ],
     "language": "python",
     "metadata": {},
     "outputs": [],
     "prompt_number": 1
    },
    {
     "cell_type": "code",
     "collapsed": false,
     "input": [
      "file_path = '/home/david/git/MIC-XRD-Polymer/visualization/Vis_data.json'"
     ],
     "language": "python",
     "metadata": {},
     "outputs": [],
     "prompt_number": 2
    },
    {
     "cell_type": "code",
     "collapsed": false,
     "input": [
      "with open(file_path) as json_file:\n",
      "    data_dicts = json.load(json_file)"
     ],
     "language": "python",
     "metadata": {},
     "outputs": [],
     "prompt_number": 3
    },
    {
     "cell_type": "code",
     "collapsed": false,
     "input": [
      "keys = data_dicts[0].keys()\n",
      "pt_key = keys[5]\n",
      "strain_key = keys[4]\n",
      "sample_key = keys[3]\n",
      "stress_key = keys[2]"
     ],
     "language": "python",
     "metadata": {},
     "outputs": [],
     "prompt_number": 4
    },
    {
     "cell_type": "code",
     "collapsed": false,
     "input": [
      "samples = []\n",
      "strains = []\n",
      "pc_points = []\n",
      "stresses = []\n",
      "for pt_dict in data_dicts:\n",
      "    samples.append(pt_dict[sample_key])\n",
      "    strains.append(pt_dict[strain_key])\n",
      "    stresses.append(pt_dict[stress_key])\n",
      "samples_numbers = sorted(set(samples))"
     ],
     "language": "python",
     "metadata": {},
     "outputs": [],
     "prompt_number": 5
    },
    {
     "cell_type": "code",
     "collapsed": false,
     "input": [
      "sample_dict = {}\n",
      "for sample in samples_numbers:    \n",
      "    sub_data_dict = {}\n",
      "    sub_strains = []\n",
      "    sub_stress = []\n",
      "    for strain, stress, samp, pts in zip(strains, stresses, samples, data_dicts):\n",
      "        if samp == sample:\n",
      "            if len(sub_data_dict) == 0:\n",
      "                sub_data_dict['points'] = np.array(pts[pt_key])[..., None]\n",
      "            else:\n",
      "                sub_data_dict['points'] = np.concatenate((sub_data_dict['points'], np.array(pts[pt_key])[..., None]), axis=-1)\n",
      "            sub_strains.append(strain)\n",
      "            sub_stress.append(stress)\n",
      "    sub_data_dict['strains'] = np.array(sub_strains)\n",
      "    sub_data_dict['stresses'] = np.array(sub_stress)\n",
      "    sample_dict[sample] = sub_data_dict"
     ],
     "language": "python",
     "metadata": {},
     "outputs": [],
     "prompt_number": 6
    },
    {
     "cell_type": "code",
     "collapsed": false,
     "input": [
      "sample0 = sample_dict[samples_numbers[0]]\n",
      "sample1 = sample_dict[samples_numbers[1]]\n",
      "sample2 = sample_dict[samples_numbers[2]]"
     ],
     "language": "python",
     "metadata": {},
     "outputs": [],
     "prompt_number": 7
    },
    {
     "cell_type": "code",
     "collapsed": false,
     "input": [
      "stresses0 = sample0['stresses']\n",
      "strains0 = sample0['strains']\n",
      "points0 = sample0['points'][0]\n",
      "stresses1 = sample1['stresses']\n",
      "strains1 = sample1['strains']\n",
      "points1 = sample1['points'][0]\n",
      "stresses2 = sample2['stresses']\n",
      "strains2 = sample2['strains']\n",
      "points2 = sample2['points'][0]"
     ],
     "language": "python",
     "metadata": {},
     "outputs": [],
     "prompt_number": 8
    },
    {
     "cell_type": "code",
     "collapsed": false,
     "input": [
      "kf_filter = KalmanFilter(1, 1, 1)\n",
      "# kf_filter = KalmanFilter()"
     ],
     "language": "python",
     "metadata": {},
     "outputs": [],
     "prompt_number": 13
    },
    {
     "cell_type": "code",
     "collapsed": false,
     "input": [
      "kf_filter.x = np.array([[points0[0]]]) #Initial Conditions\n",
      "kf_filter.F = np.array([[1.]]) #Transition Matrix\n",
      "kf_filter.B = np.array([[1.]]) # Control Transition Matrix\n",
      "kf_filter.P = np.array([[10]]) # Covariance Matrix\n",
      "kf_filter.R = np.array([[0.01]]) # Measurement Uncertainty\n",
      "# kf_filter.Q = Q_discrete_white_noise(dim=1, dt=0.1, var=0.13)\n",
      "kf_filter.H = np.array([[1.]])"
     ],
     "language": "python",
     "metadata": {},
     "outputs": [],
     "prompt_number": 23
    },
    {
     "cell_type": "code",
     "collapsed": false,
     "input": [
      "test = []\n",
      "for point, strain in zip(points0, strains0):\n",
      "    kf_filter.predict(np.array([strain]))\n",
      "    kf_filter.update(np.array([point]))\n",
      "    test.append(kf_filter.x)\n",
      "    \n",
      "# for point, strain in zip(points1, strains1):\n",
      "#     kf_filter.predict(np.array([[strain]]))\n",
      "#     kf_filter.update(np.array([[point]]))\n",
      "\n",
      "# print np.array(test).shape\n",
      "kf_filter.x.shape\n",
      "plt.plot(np.array(test)[:, 0, 0], label='Prediction')\n",
      "# print kf_filter.x\n",
      "# print points0[-1]\n",
      "plt.plot(points0, label='Raw Data')\n",
      "plt.legend(loc=2)\n",
      "plt.title('Data')\n",
      "plt.show()\n",
      "fig = plt.figure()\n",
      "plt.title('Difference')\n",
      "plt.plot(np.array(test)[:, 0, 0] - points0)\n",
      "plt.show()"
     ],
     "language": "python",
     "metadata": {},
     "outputs": [
      {
       "metadata": {},
       "output_type": "display_data",
       "png": "[encoded data removed]",
       "text": [
        "<matplotlib.figure.Figure at 0x7fe6aa20d450>"
       ]
      },
      {
       "metadata": {},
       "output_type": "display_data",
       "png": "[encoded data removed]",
       "text": [
        "<matplotlib.figure.Figure at 0x7fe6aa1990d0>"
       ]
      }
     ],
     "prompt_number": 27
    },
    {
     "cell_type": "code",
     "collapsed": false,
     "input": [
      "pred_strain2 = []\n",
      "print kf_filter.x\n",
      "print points2[0]\n",
      "kf_filter.x = np.array([[points2[0]]])\n",
      "print kf_filter.x\n",
      "for strain in strains2:\n",
      "#     print strain\n",
      "    pred_strain2.append(kf_filter.predict(np.array([[strain]])))\n",
      "    \n",
      "print points2.shape\n",
      "print np.array(pred_strain2).shape"
     ],
     "language": "python",
     "metadata": {},
     "outputs": [
      {
       "output_type": "stream",
       "stream": "stdout",
       "text": [
        "[[ 441.69706451]]\n",
        "-17.0737094879\n",
        "[[-17.07370949]]\n",
        "(245,)\n",
        "(245,)\n"
       ]
      }
     ],
     "prompt_number": 22
    },
    {
     "cell_type": "code",
     "collapsed": false,
     "input": [
      "fig = plt.figure()\n",
      "plt.plot(points2)\n",
      "fig = plt.figure()\n",
      "print np.array(pred_strain2)\n",
      "plt.plot(np.array(pred_strain2))\n",
      "# plt.show()\n",
      "# fig = plt.figure()\n",
      "# plt.plot(test[:, 0], 'k.')"
     ],
     "language": "python",
     "metadata": {},
     "outputs": [
      {
       "output_type": "stream",
       "stream": "stdout",
       "text": [
        "[None None None None None None None None None None None None None None None\n",
        " None None None None None None None None None None None None None None None\n",
        " None None None None None None None None None None None None None None None\n",
        " None None None None None None None None None None None None None None None\n",
        " None None None None None None None None None None None None None None None\n",
        " None None None None None None None None None None None None None None None\n",
        " None None None None None None None None None None None None None None None\n",
        " None None None None None None None None None None None None None None None\n",
        " None None None None None None None None None None None None None None None\n",
        " None None None None None None None None None None None None None None None\n",
        " None None None None None None None None None None None None None None None\n",
        " None None None None None None None None None None None None None None None\n",
        " None None None None None None None None None None None None None None None\n",
        " None None None None None None None None None None None None None None None\n",
        " None None None None None None None None None None None None None None None\n",
        " None None None None None None None None None None None None None None None\n",
        " None None None None None]\n"
       ]
      },
      {
       "metadata": {},
       "output_type": "pyout",
       "prompt_number": 20,
       "text": [
        "[<matplotlib.lines.Line2D at 0x7fe6aa4d4d50>]"
       ]
      },
      {
       "metadata": {},
       "output_type": "display_data",
       "png": "[encoded data removed]",
       "text": [
        "<matplotlib.figure.Figure at 0x7fe6aaa89150>"
       ]
      },
      {
       "metadata": {},
       "output_type": "display_data",
       "png": "[encoded data removed]",
       "text": [
        "<matplotlib.figure.Figure at 0x7fe6aaa89990>"
       ]
      }
     ],
     "prompt_number": 20
    },
    {
     "cell_type": "code",
     "collapsed": false,
     "input": [
      "?? kf_filter.update"
     ],
     "language": "python",
     "metadata": {},
     "outputs": []
    },
    {
     "cell_type": "code",
     "collapsed": false,
     "input": [],
     "language": "python",
     "metadata": {},
     "outputs": []
    }
   ],
   "metadata": {}
  }
 ]
}